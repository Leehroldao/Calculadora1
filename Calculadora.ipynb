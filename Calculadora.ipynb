{
  "nbformat": 4,
  "nbformat_minor": 0,
  "metadata": {
    "colab": {
      "provenance": []
    },
    "kernelspec": {
      "name": "python3",
      "display_name": "Python 3"
    },
    "language_info": {
      "name": "python"
    }
  },
  "cells": [
    {
      "cell_type": "code",
      "source": [
        "# escolha uma opção\n",
        "def calcular():\n",
        "    operação = input('''\n",
        "Digite a operação matemática que deseja realizar:\n",
        "+ para adição\n",
        "- para subtração\n",
        "* para multiplicação\n",
        "/ para divisão\n",
        "''')\n",
        "\n",
        "    num_1 = int(input('Por favor digite o primeiro número: '))\n",
        "    num_2 = int(input('Digite o segundo numero: '))\n",
        "\n",
        "    if operação == '+':\n",
        "        print('{} + {} = '.format(num_1, num_2))\n",
        "        print(num_1 + num_2)\n",
        "\n",
        "    elif operação == '-':\n",
        "        print('{} - {} = '.format(num_1, num_2))\n",
        "        print(num_1 - num_2)\n",
        "\n",
        "    elif operação == '*':\n",
        "        print('{} * {} = '.format(num_1, num_2))\n",
        "        print(num_1 * num_2)\n",
        "\n",
        "    elif operação == '/':\n",
        "        print('{} / {} = '.format(num_1, num_2))\n",
        "        print(num_1 / num_2)\n",
        "\n",
        "    else:\n",
        "        print('Você não digitou um operador válido, por favor execute o programa novamente.')\n",
        "\n",
        "# realizar cálculo() fora da função\n",
        "calcular()"
      ],
      "metadata": {
        "colab": {
          "base_uri": "https://localhost:8080/"
        },
        "id": "pvotaKYyWhyH",
        "outputId": "f91915bb-1e0a-4f2b-ca38-32d83aaeccd0"
      },
      "execution_count": null,
      "outputs": [
        {
          "output_type": "stream",
          "name": "stdout",
          "text": [
            "\n",
            "Digite a operação matemática que deseja realizar:\n",
            "+ para adição\n",
            "- para subtração\n",
            "* para multiplicação\n",
            "/ para divisão\n",
            "+\n",
            "Por favor digite o primeiro número: 57\n",
            "Digite o segundo numero: 68\n",
            "57 + 68 = \n",
            "125\n"
          ]
        }
      ]
    }
  ]
}